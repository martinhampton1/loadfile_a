{
  "nbformat": 4,
  "nbformat_minor": 0,
  "metadata": {
    "colab": {
      "name": "FileLoad.ipynb",
      "provenance": [],
      "authorship_tag": "ABX9TyP5NTrKUqEfd6RRib/BHUMz",
      "include_colab_link": true
    },
    "kernelspec": {
      "name": "python3",
      "display_name": "Python 3"
    },
    "language_info": {
      "name": "python"
    }
  },
  "cells": [
    {
      "cell_type": "markdown",
      "metadata": {
        "id": "view-in-github",
        "colab_type": "text"
      },
      "source": [
        "<a href=\"https://colab.research.google.com/github/martinhampton1/loadfile_a/blob/test/FileLoad.ipynb\" target=\"_parent\"><img src=\"https://colab.research.google.com/assets/colab-badge.svg\" alt=\"Open In Colab\"/></a>"
      ]
    },
    {
      "cell_type": "code",
      "execution_count": 40,
      "metadata": {
        "colab": {
          "base_uri": "https://localhost:8080/"
        },
        "id": "3ddHJidNqeh6",
        "outputId": "c1095c3d-0fc6-43c0-b394-4cb7025b14b1"
      },
      "outputs": [
        {
          "output_type": "stream",
          "name": "stdout",
          "text": [
            "Updated property [core/project].\n",
            "/tmp/to_upload.txt contains:\n",
            "my sample fileCreating gs://colab-sample-bucket-3b0311ae-ccab-11ec-9ba6-0242ac1c0002/...\n",
            "Copying file:///tmp/to_upload.txt [Content-Type=text/plain]...\n",
            "-\n",
            "Operation completed over 1 objects/14.0 B.                                       \n"
          ]
        }
      ],
      "source": [
        "project_id = 'optusu'\n",
        "import uuid\n",
        "bucket_name = 'colab-sample-bucket-' + str(uuid.uuid1())\n",
        "from google.colab import auth\n",
        "auth.authenticate_user()\n",
        "!gcloud config set project {project_id}\n",
        "\n",
        "with open('/tmp/to_upload.txt', 'w') as f:\n",
        "  f.write('my sample file')\n",
        "\n",
        "print('/tmp/to_upload.txt contains:')\n",
        "!cat /tmp/to_upload.txt\n",
        "\n",
        "!gsutil mb gs://{bucket_name}\n",
        "!gsutil cp /tmp/to_upload.txt gs://{bucket_name}/"
      ]
    }
  ]
}